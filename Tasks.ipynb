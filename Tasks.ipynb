{
 "cells": [
  {
   "cell_type": "markdown",
   "metadata": {},
   "source": [
    "# TASK I\n",
    "\n",
    "## 1.1\n",
    "El coeficiente 3w₂ multiplica a X₂, siendo el cambio en la variable dependiente (y), \n",
    "por cada unidad de cambio en la variable dependiente X₂. Y la otra variable independiente, X₁, se mantiene constante.\n",
    "\n",
    "## 2.2\n",
    "La multicolinealidad es cuando dos o más variables predictoras de la regresión lineal (X₁, X₂, …, Xₚ) \n",
    "están altamente correlacionadas entre sí, lo que dificulta que el modelo distinga sus efectos individuales \n",
    "sobre las variables dependientes. Si se tienen dos variables X₁ y X₂ que son casi linealmente dependientes, \n",
    "como X₂ ≈ 2X₁, el modelo de regresión tendría problemas para identificar qué parte del cambio en y se debe a X₁ y cuál a X₂."
   ]
  },
  {
   "cell_type": "markdown",
   "metadata": {},
   "source": [
    "# TASK II"
   ]
  },
  {
   "cell_type": "markdown",
   "metadata": {},
   "source": [
    "## 2.1"
   ]
  },
  {
   "cell_type": "markdown",
   "metadata": {},
   "source": [
    "## 2.2"
   ]
  },
  {
   "cell_type": "code",
   "execution_count": 5,
   "metadata": {
    "vscode": {
     "languageId": "markdown"
    }
   },
   "outputs": [],
   "source": [
    "import numpy as np\n",
    "import pandas as pd\n",
    "\n",
    "df = pd.read_csv(\"./Dataset/dataset_phishing.csv\")"
   ]
  },
  {
   "cell_type": "code",
   "execution_count": 6,
   "metadata": {
    "vscode": {
     "languageId": "markdown"
    }
   },
   "outputs": [
    {
     "name": "stdout",
     "output_type": "stream",
     "text": [
      "['url', 'length_url', 'length_hostname', 'ip', 'nb_dots', 'nb_hyphens', 'nb_at', 'nb_qm', 'nb_and', 'nb_or', 'nb_eq', 'nb_underscore', 'nb_tilde', 'nb_percent', 'nb_slash', 'nb_star', 'nb_colon', 'nb_comma', 'nb_semicolumn', 'nb_dollar', 'nb_space', 'nb_www', 'nb_com', 'nb_dslash', 'http_in_path', 'https_token', 'ratio_digits_url', 'ratio_digits_host', 'punycode', 'port', 'tld_in_path', 'tld_in_subdomain', 'abnormal_subdomain', 'nb_subdomains', 'prefix_suffix', 'random_domain', 'shortening_service', 'path_extension', 'nb_redirection', 'nb_external_redirection', 'length_words_raw', 'char_repeat', 'shortest_words_raw', 'shortest_word_host', 'shortest_word_path', 'longest_words_raw', 'longest_word_host', 'longest_word_path', 'avg_words_raw', 'avg_word_host', 'avg_word_path', 'phish_hints', 'domain_in_brand', 'brand_in_subdomain', 'brand_in_path', 'suspecious_tld', 'statistical_report', 'nb_hyperlinks', 'ratio_intHyperlinks', 'ratio_extHyperlinks', 'ratio_nullHyperlinks', 'nb_extCSS', 'ratio_intRedirection', 'ratio_extRedirection', 'ratio_intErrors', 'ratio_extErrors', 'login_form', 'external_favicon', 'links_in_tags', 'submit_email', 'ratio_intMedia', 'ratio_extMedia', 'sfh', 'iframe', 'popup_window', 'safe_anchor', 'onmouseover', 'right_clic', 'empty_title', 'domain_in_title', 'domain_with_copyright', 'whois_registered_domain', 'domain_registration_length', 'domain_age', 'web_traffic', 'dns_record', 'google_index', 'page_rank', 'status']\n",
      "- - - - - - - BALANCEO - - - - - - -\n",
      "status\n",
      "legitimate    5715\n",
      "phishing      5715\n",
      "Name: count, dtype: int64\n",
      "- - - - - - - TIPOS DE DATOS - - - - - - -\n",
      "int64      74\n",
      "float64    13\n",
      "object      2\n",
      "Name: count, dtype: int64\n",
      "- - - - - - - VALORES NULLS - - - - - - -\n",
      "         url  length_url  length_hostname     ip  nb_dots  nb_hyphens  nb_at  \\\n",
      "0      False       False            False  False    False       False  False   \n",
      "1      False       False            False  False    False       False  False   \n",
      "2      False       False            False  False    False       False  False   \n",
      "3      False       False            False  False    False       False  False   \n",
      "4      False       False            False  False    False       False  False   \n",
      "...      ...         ...              ...    ...      ...         ...    ...   \n",
      "11425  False       False            False  False    False       False  False   \n",
      "11426  False       False            False  False    False       False  False   \n",
      "11427  False       False            False  False    False       False  False   \n",
      "11428  False       False            False  False    False       False  False   \n",
      "11429  False       False            False  False    False       False  False   \n",
      "\n",
      "       nb_qm  nb_and  nb_or  ...  domain_in_title  domain_with_copyright  \\\n",
      "0      False   False  False  ...            False                  False   \n",
      "1      False   False  False  ...            False                  False   \n",
      "2      False   False  False  ...            False                  False   \n",
      "3      False   False  False  ...            False                  False   \n",
      "4      False   False  False  ...            False                  False   \n",
      "...      ...     ...    ...  ...              ...                    ...   \n",
      "11425  False   False  False  ...            False                  False   \n",
      "11426  False   False  False  ...            False                  False   \n",
      "11427  False   False  False  ...            False                  False   \n",
      "11428  False   False  False  ...            False                  False   \n",
      "11429  False   False  False  ...            False                  False   \n",
      "\n",
      "       whois_registered_domain  domain_registration_length  domain_age  \\\n",
      "0                        False                       False       False   \n",
      "1                        False                       False       False   \n",
      "2                        False                       False       False   \n",
      "3                        False                       False       False   \n",
      "4                        False                       False       False   \n",
      "...                        ...                         ...         ...   \n",
      "11425                    False                       False       False   \n",
      "11426                    False                       False       False   \n",
      "11427                    False                       False       False   \n",
      "11428                    False                       False       False   \n",
      "11429                    False                       False       False   \n",
      "\n",
      "       web_traffic  dns_record  google_index  page_rank  status  \n",
      "0            False       False         False      False   False  \n",
      "1            False       False         False      False   False  \n",
      "2            False       False         False      False   False  \n",
      "3            False       False         False      False   False  \n",
      "4            False       False         False      False   False  \n",
      "...            ...         ...           ...        ...     ...  \n",
      "11425        False       False         False      False   False  \n",
      "11426        False       False         False      False   False  \n",
      "11427        False       False         False      False   False  \n",
      "11428        False       False         False      False   False  \n",
      "11429        False       False         False      False   False  \n",
      "\n",
      "[11430 rows x 89 columns]\n",
      "[0, 0, 0, 0, 0, 0, 0, 0, 0, 0, 0, 0, 0, 0, 0, 0, 0, 0, 0, 0, 0, 0, 0, 0, 0, 0, 0, 0, 0, 0, 0, 0, 0, 0, 0, 0, 0, 0, 0, 0, 0, 0, 0, 0, 0, 0, 0, 0, 0, 0, 0, 0, 0, 0, 0, 0, 0, 0, 0, 0, 0, 0, 0, 0, 0, 0, 0, 0, 0, 0, 0, 0, 0, 0, 0, 0, 0, 0, 0, 0, 0, 0, 0, 0, 0, 0, 0, 0, 0]\n"
     ]
    }
   ],
   "source": [
    "# Exploracion de datos\n",
    "# Para saber las columnas del dataset\n",
    "print(list(df.columns))\n",
    "\n",
    "# Para saber si el dataset esta balanceado\n",
    "print(\"- - - - - - - BALANCEO - - - - - - -\")\n",
    "print(df[\"status\"].value_counts())\n",
    "\n",
    "# Obtener tipos de datos\n",
    "tipos_de_datos = df.dtypes.value_counts()\n",
    "\n",
    "# Mostrar tipos de datos con nombres de columnas\n",
    "print(\"- - - - - - - TIPOS DE DATOS - - - - - - -\")\n",
    "print(tipos_de_datos)\n",
    "\n",
    "# Buscando valores nulls\n",
    "print(\"- - - - - - - VALORES NULLS - - - - - - -\")\n",
    "nulos = df.isnull()\n",
    "print(nulos)\n",
    "\n",
    "nulos_por_columna = df.isnull().sum()\n",
    "print(list(nulos_por_columna))\n"
   ]
  },
  {
   "cell_type": "code",
   "execution_count": 7,
   "metadata": {
    "vscode": {
     "languageId": "markdown"
    }
   },
   "outputs": [
    {
     "name": "stdout",
     "output_type": "stream",
     "text": [
      "['length_url', 'length_hostname', 'ip', 'nb_dots', 'nb_hyphens', 'nb_at', 'nb_qm', 'nb_and', 'nb_or', 'nb_eq', 'nb_underscore', 'nb_tilde', 'nb_percent', 'nb_slash', 'nb_star', 'nb_colon', 'nb_comma', 'nb_semicolumn', 'nb_dollar', 'nb_space', 'nb_www', 'nb_com', 'nb_dslash', 'http_in_path', 'https_token', 'ratio_digits_url', 'ratio_digits_host', 'punycode', 'port', 'tld_in_path', 'tld_in_subdomain', 'abnormal_subdomain', 'nb_subdomains', 'prefix_suffix', 'random_domain', 'shortening_service', 'path_extension', 'nb_redirection', 'nb_external_redirection', 'length_words_raw', 'char_repeat', 'shortest_words_raw', 'shortest_word_host', 'shortest_word_path', 'longest_words_raw', 'longest_word_host', 'longest_word_path', 'avg_words_raw', 'avg_word_host', 'avg_word_path', 'phish_hints', 'domain_in_brand', 'brand_in_subdomain', 'brand_in_path', 'suspecious_tld', 'statistical_report', 'nb_hyperlinks', 'ratio_intHyperlinks', 'ratio_extHyperlinks', 'ratio_nullHyperlinks', 'nb_extCSS', 'ratio_intRedirection', 'ratio_extRedirection', 'ratio_intErrors', 'ratio_extErrors', 'login_form', 'external_favicon', 'links_in_tags', 'submit_email', 'ratio_intMedia', 'ratio_extMedia', 'sfh', 'iframe', 'popup_window', 'safe_anchor', 'onmouseover', 'right_clic', 'empty_title', 'domain_in_title', 'domain_with_copyright', 'whois_registered_domain', 'domain_registration_length', 'domain_age', 'web_traffic', 'dns_record', 'google_index', 'page_rank', 'status']\n",
      "[0, 0, 0, 0, 0, 0, 0, 0, 0, 0, 0, 0, 0, 0, 0, 0, 0, 0, 0, 0, 0, 0, 0, 0, 0, 0, 0, 0, 0, 0, 0, 0, 0, 0, 0, 0, 0, 0, 0, 0, 0, 0, 0, 0, 0, 0, 0, 0, 0, 0, 0, 0, 0, 0, 0, 0, 0, 0, 0, 0, 0, 0, 0, 0, 0, 0, 0, 0, 0, 0, 0, 0, 0, 0, 0, 0, 0, 0, 0, 0, 0, 0, 0, 0, 0, 0, 0, 0, 0]\n"
     ]
    }
   ],
   "source": [
    "# Convirtiendo Columna status a numerica\n",
    "df[\"status\"] = df[\"status\"].map({\"phishing\": 1, \"legitimate\": 0})\n",
    "\n",
    "\n",
    "# Columna innecesaria porque ya se tiene su longitud\n",
    "dfProcessed = df.drop('url', axis=1)\n",
    "\n",
    "print(list(dfProcessed.columns))\n",
    "nulos_por_columna = df.isnull().sum()\n",
    "print(list(nulos_por_columna))\n"
   ]
  },
  {
   "cell_type": "code",
   "execution_count": 8,
   "metadata": {
    "vscode": {
     "languageId": "markdown"
    }
   },
   "outputs": [],
   "source": [
    "# Este codigo lo dejo aqui porque fue el primer intento del KNN y se tardo demadiado, lo decidi optimizar\n",
    "# def euclidean(x, y):\n",
    "#     return np.sqrt(np.sum((x - y) ** 2))\n",
    "\n",
    "# def Knn(x_train, y_train, x_test, k):\n",
    "#     y_pred = []\n",
    "#     for i in range(x_test.shape[0]):\n",
    "#         distances = []\n",
    "#         for j in range(x_train.shape[0]):\n",
    "#             distances.append(euclidean(x_test.iloc[i], x_train.iloc[j]))\n",
    "#         distances = np.array(distances)\n",
    "#         k_nearest = np.argsort(distances)[:k]\n",
    "#         k_nearest_labels = y_train.iloc[k_nearest]\n",
    "#         y_pred.append(k_nearest_labels.value_counts().idxmax())\n",
    "#     return y_pred\n",
    "\n",
    "def Knn_optimized(x_train, y_train, x_test, k):\n",
    "    y_pred = []\n",
    "    x_train = x_train.to_numpy() \n",
    "    x_test = x_test.to_numpy()\n",
    "\n",
    "    for x in x_test:\n",
    "        # Calcular la distancia euclidiana\n",
    "        distances = np.sqrt(((x_train - x) ** 2).sum(axis=1))\n",
    "\n",
    "        k_nearest = np.argpartition(distances, k)[:k]\n",
    "        k_nearest_labels = y_train.iloc[k_nearest]\n",
    "        y_pred.append(k_nearest_labels.value_counts().idxmax())\n",
    "    \n",
    "    return y_pred\n",
    "\n",
    "# Seleccionar 80% de los datos para entrenamiento\n",
    "train = dfProcessed.sample(frac=0.8, random_state=42)\n",
    "\n",
    "# # Usar el resto (20%) para prueba\n",
    "test = dfProcessed.drop(train.index)\n",
    "\n",
    "# Train\n",
    "train_y = train.pop('status')\n",
    "train_x = train\n",
    "\n",
    "# Test\n",
    "test_y = test.pop('status')\n",
    "test_x = test\n",
    "\n",
    "y_pred = Knn_optimized(train_x, train_y, test_x, 3)\n",
    "# print(res)\n"
   ]
  },
  {
   "cell_type": "code",
   "execution_count": 9,
   "metadata": {
    "vscode": {
     "languageId": "markdown"
    }
   },
   "outputs": [
    {
     "name": "stdout",
     "output_type": "stream",
     "text": [
      "Accuracy (Exactitud): 0.8429571303587051\n",
      "Precision (Precisión): 0.8177257525083612\n",
      "Recall (Sensibilidad): 0.8739946380697051\n"
     ]
    }
   ],
   "source": [
    "df_results = pd.DataFrame({'Real': test_y, 'Predicho': y_pred})\n",
    "\n",
    "y_pred = np.array(y_pred)\n",
    "\n",
    "TP = np.sum((test_y == 1) & (y_pred == 1))\n",
    "TN = np.sum((test_y == 0) & (y_pred == 0))\n",
    "FP = np.sum((test_y == 0) & (y_pred == 1))\n",
    "FN = np.sum((test_y == 1) & (y_pred == 0))\n",
    "\n",
    "accuracy = (TP + TN) / len(test_y) if len(test_y) > 0 else 0\n",
    "precision = TP / (TP + FP) if (TP + FP) > 0 else 0\n",
    "recall = TP / (TP + FN) if (TP + FN) > 0 else 0\n",
    "\n",
    "print(\"Accuracy (Exactitud):\", accuracy)\n",
    "print(\"Precision (Precisión):\", precision)\n",
    "print(\"Recall (Sensibilidad):\", recall)"
   ]
  },
  {
   "cell_type": "code",
   "execution_count": 10,
   "metadata": {
    "vscode": {
     "languageId": "markdown"
    }
   },
   "outputs": [
    {
     "data": {
      "image/png": "[encoded data removed]",
      "text/plain": [
       "<Figure size 800x600 with 2 Axes>"
      ]
     },
     "metadata": {},
     "output_type": "display_data"
    }
   ],
   "source": [
    "import numpy as np\n",
    "import matplotlib.pyplot as plt\n",
    "import seaborn as sns\n",
    "\n",
    "# Valores de la matriz de confusión\n",
    "conf_matrix = np.array([[TN, FP],  # Primera fila: Verdaderos negativos, Falsos positivos\n",
    "                        [FN, TP]])  # Segunda fila: Falsos negativos, Verdaderos positivos\n",
    "\n",
    "# Crear la gráfica de la matriz de confusión\n",
    "plt.figure(figsize=(8, 6))\n",
    "sns.heatmap(conf_matrix, annot=True, fmt=\"d\", cmap=\"Blues\", xticklabels=[\"Predicho 0\", \"Predicho 1\"], yticklabels=[\"Real 0\", \"Real 1\"])\n",
    "\n",
    "# Personalizar\n",
    "plt.title(\"Matriz de Confusión\", fontsize=16)\n",
    "plt.xlabel(\"Clase Predicha\", fontsize=14)\n",
    "plt.ylabel(\"Clase Real\", fontsize=14)\n",
    "plt.show()"
   ]
  },
  {
   "cell_type": "code",
   "execution_count": 12,
   "metadata": {
    "vscode": {
     "languageId": "markdown"
    }
   },
   "outputs": [
    {
     "name": "stdout",
     "output_type": "stream",
     "text": [
      "['length_url', 'length_hostname', 'ip', 'nb_dots', 'nb_hyphens', 'nb_at', 'nb_qm', 'nb_and', 'nb_or', 'nb_eq', 'nb_underscore', 'nb_tilde', 'nb_percent', 'nb_slash', 'nb_star', 'nb_colon', 'nb_comma', 'nb_semicolumn', 'nb_dollar', 'nb_space', 'nb_www', 'nb_com', 'nb_dslash', 'http_in_path', 'https_token', 'ratio_digits_url', 'ratio_digits_host', 'punycode', 'port', 'tld_in_path', 'tld_in_subdomain', 'abnormal_subdomain', 'nb_subdomains', 'prefix_suffix', 'random_domain', 'shortening_service', 'path_extension', 'nb_redirection', 'nb_external_redirection', 'length_words_raw', 'char_repeat', 'shortest_words_raw', 'shortest_word_host', 'shortest_word_path', 'longest_words_raw', 'longest_word_host', 'longest_word_path', 'avg_words_raw', 'avg_word_host', 'avg_word_path', 'phish_hints', 'domain_in_brand', 'brand_in_subdomain', 'brand_in_path', 'suspecious_tld', 'statistical_report', 'nb_hyperlinks', 'ratio_intHyperlinks', 'ratio_extHyperlinks', 'ratio_nullHyperlinks', 'nb_extCSS', 'ratio_intRedirection', 'ratio_extRedirection', 'ratio_intErrors', 'ratio_extErrors', 'login_form', 'external_favicon', 'links_in_tags', 'submit_email', 'ratio_intMedia', 'ratio_extMedia', 'sfh', 'iframe', 'popup_window', 'safe_anchor', 'onmouseover', 'right_clic', 'empty_title', 'domain_in_title', 'domain_with_copyright', 'whois_registered_domain', 'domain_registration_length', 'domain_age', 'web_traffic', 'dns_record', 'google_index', 'page_rank', 'status']\n",
      "[0, 0, 0, 0, 0, 0, 0, 0, 0, 0, 0, 0, 0, 0, 0, 0, 0, 0, 0, 0, 0, 0, 0, 0, 0, 0, 0, 0, 0, 0, 0, 0, 0, 0, 0, 0, 0, 0, 0, 0, 0, 0, 0, 0, 0, 0, 0, 0, 0, 0, 0, 0, 0, 0, 0, 0, 0, 0, 0, 0, 0, 0, 0, 0, 0, 0, 0, 0, 0, 0, 0, 0, 0, 0, 0, 0, 0, 0, 0, 0, 0, 0, 0, 0, 0, 0, 0, 0, 0]\n"
     ]
    }
   ],
   "source": [
    "df = pd.read_csv(\"./Dataset/dataset_phishing.csv\")\n",
    "\n",
    "# Convirtiendo Columna status a numerica\n",
    "df[\"status\"] = df[\"status\"].map({\"phishing\": 1, \"legitimate\": 0})\n",
    "\n",
    "\n",
    "# Columna innecesaria porque ya se tiene su longitud\n",
    "dfProcessed = df.drop('url', axis=1)\n",
    "\n",
    "print(list(dfProcessed.columns))\n",
    "nulos_por_columna = df.isnull().sum()\n",
    "print(list(nulos_por_columna))"
   ]
  },
  {
   "cell_type": "code",
   "execution_count": 13,
   "metadata": {
    "vscode": {
     "languageId": "markdown"
    }
   },
   "outputs": [
    {
     "name": "stdout",
     "output_type": "stream",
     "text": [
      "Accuracy (Exactitud): 0.836832895888014\n",
      "Precision (Precisión): 0.8214285714285714\n",
      "Recall (Sensibilidad): 0.8556244464127547\n"
     ]
    }
   ],
   "source": [
    "import numpy as np\n",
    "import pandas as pd\n",
    "from sklearn.model_selection import train_test_split\n",
    "from sklearn.neighbors import KNeighborsClassifier\n",
    "from sklearn.metrics import accuracy_score, precision_score, recall_score, classification_report\n",
    "import matplotlib.pyplot as plt\n",
    "\n",
    "\n",
    "y = dfProcessed.pop(\"status\") \n",
    "X = dfProcessed\n",
    "\n",
    "\n",
    "X_train, X_test, y_train, y_test = train_test_split(X, y, test_size=0.2, random_state=42)\n",
    "\n",
    "\n",
    "knn = KNeighborsClassifier(n_neighbors=3)\n",
    "\n",
    "knn.fit(X_train, y_train)\n",
    "\n",
    "y_pred = knn.predict(X_test)\n",
    "\n",
    "# Calcular métricas\n",
    "accuracy = accuracy_score(y_test, y_pred)\n",
    "precision = precision_score(y_test, y_pred)\n",
    "recall = recall_score(y_test, y_pred)\n",
    "\n",
    "print(\"Accuracy (Exactitud):\", accuracy)\n",
    "print(\"Precision (Precisión):\", precision)\n",
    "print(\"Recall (Sensibilidad):\", recall)"
   ]
  },
  {
   "cell_type": "code",
   "execution_count": 14,
   "metadata": {
    "vscode": {
     "languageId": "markdown"
    }
   },
   "outputs": [
    {
     "data": {
      "image/png": "[encoded data removed]",
      "text/plain": [
       "<Figure size 800x600 with 2 Axes>"
      ]
     },
     "metadata": {},
     "output_type": "display_data"
    }
   ],
   "source": [
    "from sklearn.metrics import confusion_matrix\n",
    "import seaborn as sns\n",
    "import matplotlib.pyplot as plt\n",
    "\n",
    "# Calcular la matriz de confusión\n",
    "conf_matrix = confusion_matrix(y_test, y_pred)\n",
    "\n",
    "# Crear la gráfica de la matriz de confusión\n",
    "plt.figure(figsize=(8, 6))\n",
    "sns.heatmap(conf_matrix, annot=True, fmt=\"d\", cmap=\"Blues\", xticklabels=[\"Legitimate\", \"Phishing\"], yticklabels=[\"Legitimate\", \"Phishing\"])\n",
    "\n",
    "# Personalizar\n",
    "plt.title(\"Matriz de Confusión\", fontsize=16)\n",
    "plt.xlabel(\"Clase Predicha\", fontsize=14)\n",
    "plt.ylabel(\"Clase Real\", fontsize=14)\n",
    "plt.show()\n"
   ]
  },
  {
   "cell_type": "markdown",
   "metadata": {},
   "source": [
    "### métricas de desempeño \n",
    "\n",
    "Las métricas que se usaron para evaluar el modelo fueron las de acurracy porque los datos estaban balanceados, existe la misma cantidad de datos fishing como legitimo. Además, se usó Precisión para saber la precisión en la que devuelve los datos y por último se utilizó la sensibilidad para saber de los positivos reales cuantos fueron identificados. \n",
    "\n",
    "### ¿Cuál implementación fue mejor? ¿Por qué? \n",
    "Las dos formas de solucionar el problema dieron una respuesta muy parecida, por los resultados el knn de la librería Sckit-learn, es ligeramente mejor al realizado por el grupo. Pero en términos generales son muy parecidos por lo que ambos fueron buenas implementaciones. "
   ]
  }
 ],
 "metadata": {
  "kernelspec": {
   "display_name": "Python 3",
   "language": "python",
   "name": "python3"
  },
  "language_info": {
   "codemirror_mode": {
    "name": "ipython",
    "version": 3
   },
   "file_extension": ".py",
   "mimetype": "text/x-python",
   "name": "python",
   "nbconvert_exporter": "python",
   "pygments_lexer": "ipython3",
   "version": "3.11.9"
  }
 },
 "nbformat": 4,
 "nbformat_minor": 2
}
