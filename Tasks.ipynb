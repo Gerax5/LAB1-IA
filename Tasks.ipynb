{
 "cells": [
  {
   "cell_type": "markdown",
   "metadata": {},
   "source": [
    "Francis Aguilar    \n",
    "Angela García    \n",
    "Gerardo Pineda   \n",
    "\n",
    "### Link de repositorio \n",
    "https://github.com/Gerax5/LAB1-IA/tree/main "
   ]
  },
  {
   "cell_type": "markdown",
   "metadata": {},
   "source": [
    "# TASK I\n",
    "\n",
    "## 1.1\n",
    "El coeficiente 3w₂ multiplica a X₂, siendo el cambio en la variable dependiente (y), \n",
    "por cada unidad de cambio en la variable dependiente X₂. Y la otra variable independiente, X₁, se mantiene constante.\n",
    "\n",
    "## 2.2\n",
    "La multicolinealidad es cuando dos o más variables predictoras de la regresión lineal (X₁, X₂, …, Xₚ) \n",
    "están altamente correlacionadas entre sí, lo que dificulta que el modelo distinga sus efectos individuales \n",
    "sobre las variables dependientes. Si se tienen dos variables X₁ y X₂ que son casi linealmente dependientes, \n",
    "como X₂ ≈ 2X₁, el modelo de regresión tendría problemas para identificar qué parte del cambio en y se debe a X₁ y cuál a X₂."
   ]
  },
  {
   "cell_type": "markdown",
   "metadata": {},
   "source": [
    "# TASK II"
   ]
  },
  {
   "cell_type": "markdown",
   "metadata": {},
   "source": [
    "## 2.1"
   ]
  },
  {
   "cell_type": "markdown",
   "metadata": {},
   "source": [
    "---------------------------------------------------------------------------"
   ]
  },
  {
   "cell_type": "markdown",
   "metadata": {},
   "source": [
    "Importación de librerías"
   ]
  },
  {
   "cell_type": "code",
   "execution_count": 21,
   "metadata": {
    "vscode": {
     "languageId": "markdown"
    }
   },
   "outputs": [],
   "source": [
    "import numpy as np\n",
    "import pandas as pd\n",
    "from sklearn.preprocessing import StandardScaler\n",
    "from sklearn.model_selection import train_test_split\n",
    "from sklearn.metrics import precision_score, accuracy_score, recall_score, f1_score, confusion_matrix\n",
    "#from RL import LogisticRegression\n",
    "import matplotlib.pyplot as plt\n",
    "import seaborn as sns\n",
    "\n",
    "#cargar los datos\n",
    "df = pd.read_csv(\"./Dataset/dataset_phishing.csv\")"
   ]
  },
  {
   "cell_type": "markdown",
   "metadata": {},
   "source": [
    "Normalización de datos"
   ]
  },
  {
   "cell_type": "code",
   "execution_count": 22,
   "metadata": {
    "vscode": {
     "languageId": "markdown"
    }
   },
   "outputs": [
    {
     "name": "stdout",
     "output_type": "stream",
     "text": [
      "mostrar las columas\n",
      "['url', 'length_url', 'length_hostname', 'ip', 'nb_dots', 'nb_hyphens', 'nb_at', 'nb_qm', 'nb_and', 'nb_or', 'nb_eq', 'nb_underscore', 'nb_tilde', 'nb_percent', 'nb_slash', 'nb_star', 'nb_colon', 'nb_comma', 'nb_semicolumn', 'nb_dollar', 'nb_space', 'nb_www', 'nb_com', 'nb_dslash', 'http_in_path', 'https_token', 'ratio_digits_url', 'ratio_digits_host', 'punycode', 'port', 'tld_in_path', 'tld_in_subdomain', 'abnormal_subdomain', 'nb_subdomains', 'prefix_suffix', 'random_domain', 'shortening_service', 'path_extension', 'nb_redirection', 'nb_external_redirection', 'length_words_raw', 'char_repeat', 'shortest_words_raw', 'shortest_word_host', 'shortest_word_path', 'longest_words_raw', 'longest_word_host', 'longest_word_path', 'avg_words_raw', 'avg_word_host', 'avg_word_path', 'phish_hints', 'domain_in_brand', 'brand_in_subdomain', 'brand_in_path', 'suspecious_tld', 'statistical_report', 'nb_hyperlinks', 'ratio_intHyperlinks', 'ratio_extHyperlinks', 'ratio_nullHyperlinks', 'nb_extCSS', 'ratio_intRedirection', 'ratio_extRedirection', 'ratio_intErrors', 'ratio_extErrors', 'login_form', 'external_favicon', 'links_in_tags', 'submit_email', 'ratio_intMedia', 'ratio_extMedia', 'sfh', 'iframe', 'popup_window', 'safe_anchor', 'onmouseover', 'right_clic', 'empty_title', 'domain_in_title', 'domain_with_copyright', 'whois_registered_domain', 'domain_registration_length', 'domain_age', 'web_traffic', 'dns_record', 'google_index', 'page_rank', 'status']\n",
      "- - - - - - - BALANCEO - - - - - - -\n",
      "status\n",
      "legitimate    5715\n",
      "phishing      5715\n",
      "Name: count, dtype: int64\n",
      "- - - - - - - TIPOS DE DATOS - - - - - - -\n",
      "int64      74\n",
      "float64    13\n",
      "object      2\n",
      "Name: count, dtype: int64\n",
      "verificar los valores nulos\n",
      "url                0\n",
      "length_url         0\n",
      "length_hostname    0\n",
      "ip                 0\n",
      "nb_dots            0\n",
      "                  ..\n",
      "web_traffic        0\n",
      "dns_record         0\n",
      "google_index       0\n",
      "page_rank          0\n",
      "status             0\n",
      "Length: 89, dtype: int64\n",
      "informacion general del dataframe\n",
      "<class 'pandas.core.frame.DataFrame'>\n",
      "RangeIndex: 11430 entries, 0 to 11429\n",
      "Data columns (total 89 columns):\n",
      " #   Column                      Non-Null Count  Dtype  \n",
      "---  ------                      --------------  -----  \n",
      " 0   url                         11430 non-null  object \n",
      " 1   length_url                  11430 non-null  int64  \n",
      " 2   length_hostname             11430 non-null  int64  \n",
      " 3   ip                          11430 non-null  int64  \n",
      " 4   nb_dots                     11430 non-null  int64  \n",
      " 5   nb_hyphens                  11430 non-null  int64  \n",
      " 6   nb_at                       11430 non-null  int64  \n",
      " 7   nb_qm                       11430 non-null  int64  \n",
      " 8   nb_and                      11430 non-null  int64  \n",
      " 9   nb_or                       11430 non-null  int64  \n",
      " 10  nb_eq                       11430 non-null  int64  \n",
      " 11  nb_underscore               11430 non-null  int64  \n",
      " 12  nb_tilde                    11430 non-null  int64  \n",
      " 13  nb_percent                  11430 non-null  int64  \n",
      " 14  nb_slash                    11430 non-null  int64  \n",
      " 15  nb_star                     11430 non-null  int64  \n",
      " 16  nb_colon                    11430 non-null  int64  \n",
      " 17  nb_comma                    11430 non-null  int64  \n",
      " 18  nb_semicolumn               11430 non-null  int64  \n",
      " 19  nb_dollar                   11430 non-null  int64  \n",
      " 20  nb_space                    11430 non-null  int64  \n",
      " 21  nb_www                      11430 non-null  int64  \n",
      " 22  nb_com                      11430 non-null  int64  \n",
      " 23  nb_dslash                   11430 non-null  int64  \n",
      " 24  http_in_path                11430 non-null  int64  \n",
      " 25  https_token                 11430 non-null  int64  \n",
      " 26  ratio_digits_url            11430 non-null  float64\n",
      " 27  ratio_digits_host           11430 non-null  float64\n",
      " 28  punycode                    11430 non-null  int64  \n",
      " 29  port                        11430 non-null  int64  \n",
      " 30  tld_in_path                 11430 non-null  int64  \n",
      " 31  tld_in_subdomain            11430 non-null  int64  \n",
      " 32  abnormal_subdomain          11430 non-null  int64  \n",
      " 33  nb_subdomains               11430 non-null  int64  \n",
      " 34  prefix_suffix               11430 non-null  int64  \n",
      " 35  random_domain               11430 non-null  int64  \n",
      " 36  shortening_service          11430 non-null  int64  \n",
      " 37  path_extension              11430 non-null  int64  \n",
      " 38  nb_redirection              11430 non-null  int64  \n",
      " 39  nb_external_redirection     11430 non-null  int64  \n",
      " 40  length_words_raw            11430 non-null  int64  \n",
      " 41  char_repeat                 11430 non-null  int64  \n",
      " 42  shortest_words_raw          11430 non-null  int64  \n",
      " 43  shortest_word_host          11430 non-null  int64  \n",
      " 44  shortest_word_path          11430 non-null  int64  \n",
      " 45  longest_words_raw           11430 non-null  int64  \n",
      " 46  longest_word_host           11430 non-null  int64  \n",
      " 47  longest_word_path           11430 non-null  int64  \n",
      " 48  avg_words_raw               11430 non-null  float64\n",
      " 49  avg_word_host               11430 non-null  float64\n",
      " 50  avg_word_path               11430 non-null  float64\n",
      " 51  phish_hints                 11430 non-null  int64  \n",
      " 52  domain_in_brand             11430 non-null  int64  \n",
      " 53  brand_in_subdomain          11430 non-null  int64  \n",
      " 54  brand_in_path               11430 non-null  int64  \n",
      " 55  suspecious_tld              11430 non-null  int64  \n",
      " 56  statistical_report          11430 non-null  int64  \n",
      " 57  nb_hyperlinks               11430 non-null  int64  \n",
      " 58  ratio_intHyperlinks         11430 non-null  float64\n",
      " 59  ratio_extHyperlinks         11430 non-null  float64\n",
      " 60  ratio_nullHyperlinks        11430 non-null  int64  \n",
      " 61  nb_extCSS                   11430 non-null  int64  \n",
      " 62  ratio_intRedirection        11430 non-null  int64  \n",
      " 63  ratio_extRedirection        11430 non-null  float64\n",
      " 64  ratio_intErrors             11430 non-null  int64  \n",
      " 65  ratio_extErrors             11430 non-null  float64\n",
      " 66  login_form                  11430 non-null  int64  \n",
      " 67  external_favicon            11430 non-null  int64  \n",
      " 68  links_in_tags               11430 non-null  float64\n",
      " 69  submit_email                11430 non-null  int64  \n",
      " 70  ratio_intMedia              11430 non-null  float64\n",
      " 71  ratio_extMedia              11430 non-null  float64\n",
      " 72  sfh                         11430 non-null  int64  \n",
      " 73  iframe                      11430 non-null  int64  \n",
      " 74  popup_window                11430 non-null  int64  \n",
      " 75  safe_anchor                 11430 non-null  float64\n",
      " 76  onmouseover                 11430 non-null  int64  \n",
      " 77  right_clic                  11430 non-null  int64  \n",
      " 78  empty_title                 11430 non-null  int64  \n",
      " 79  domain_in_title             11430 non-null  int64  \n",
      " 80  domain_with_copyright       11430 non-null  int64  \n",
      " 81  whois_registered_domain     11430 non-null  int64  \n",
      " 82  domain_registration_length  11430 non-null  int64  \n",
      " 83  domain_age                  11430 non-null  int64  \n",
      " 84  web_traffic                 11430 non-null  int64  \n",
      " 85  dns_record                  11430 non-null  int64  \n",
      " 86  google_index                11430 non-null  int64  \n",
      " 87  page_rank                   11430 non-null  int64  \n",
      " 88  status                      11430 non-null  object \n",
      "dtypes: float64(13), int64(74), object(2)\n",
      "memory usage: 7.8+ MB\n",
      "None\n"
     ]
    }
   ],
   "source": [
    "#--------exploracion de datos-----------\n",
    "# #mostrar las primeras filas del df\n",
    "# print(\"mostrar las primeras filas del df\")\n",
    "# print(df.head())\n",
    "\n",
    "#mostrar las columans\n",
    "print(\"mostrar las columas\")\n",
    "print(list(df.columns))\n",
    "\n",
    "# Para saber si el dataset esta balanceado\n",
    "print(\"- - - - - - - BALANCEO - - - - - - -\")\n",
    "print(df[\"status\"].value_counts())\n",
    "\n",
    "# Obtener tipos de datos\n",
    "tipos_de_datos = df.dtypes.value_counts()\n",
    "\n",
    "# Mostrar tipos de datos con nombres de columnas\n",
    "print(\"- - - - - - - TIPOS DE DATOS - - - - - - -\")\n",
    "print(tipos_de_datos)\n",
    "\n",
    "#verificar los valores nulos\n",
    "print(\"verificar los valores nulos\")\n",
    "print(df.isnull().sum())\n",
    "\n",
    "# informacion general del dataframe\n",
    "print(\"informacion general del dataframe\")\n",
    "print(df.info())"
   ]
  },
  {
   "cell_type": "code",
   "execution_count": 23,
   "metadata": {
    "vscode": {
     "languageId": "markdown"
    }
   },
   "outputs": [],
   "source": [
    "#--eliminar los valores nulos o llenarlos con la media--\n",
    "#eliminar filas con valores nulos\n",
    "df = df.dropna()\n",
    "\n",
    "#calcular la media solo de las columnas numericas\n",
    "mean_values = df.select_dtypes(include=[np.number]).mean()\n",
    "\n",
    "#llenar los valores nulos en las columnas numéricas\n",
    "df.fillna(mean_values, inplace=True)\n",
    "          \n",
    "#eliminar duplicados\n",
    "df = df.drop_duplicates()"
   ]
  },
  {
   "cell_type": "code",
   "execution_count": 24,
   "metadata": {
    "vscode": {
     "languageId": "markdown"
    }
   },
   "outputs": [
    {
     "name": "stdout",
     "output_type": "stream",
     "text": [
      "['length_url', 'length_hostname', 'ip', 'nb_dots', 'nb_hyphens', 'nb_at', 'nb_qm', 'nb_and', 'nb_or', 'nb_eq', 'nb_underscore', 'nb_tilde', 'nb_percent', 'nb_slash', 'nb_star', 'nb_colon', 'nb_comma', 'nb_semicolumn', 'nb_dollar', 'nb_space', 'nb_www', 'nb_com', 'nb_dslash', 'http_in_path', 'https_token', 'ratio_digits_url', 'ratio_digits_host', 'punycode', 'port', 'tld_in_path', 'tld_in_subdomain', 'abnormal_subdomain', 'nb_subdomains', 'prefix_suffix', 'random_domain', 'shortening_service', 'path_extension', 'nb_redirection', 'nb_external_redirection', 'length_words_raw', 'char_repeat', 'shortest_words_raw', 'shortest_word_host', 'shortest_word_path', 'longest_words_raw', 'longest_word_host', 'longest_word_path', 'avg_words_raw', 'avg_word_host', 'avg_word_path', 'phish_hints', 'domain_in_brand', 'brand_in_subdomain', 'brand_in_path', 'suspecious_tld', 'statistical_report', 'nb_hyperlinks', 'ratio_intHyperlinks', 'ratio_extHyperlinks', 'ratio_nullHyperlinks', 'nb_extCSS', 'ratio_intRedirection', 'ratio_extRedirection', 'ratio_intErrors', 'ratio_extErrors', 'login_form', 'external_favicon', 'links_in_tags', 'submit_email', 'ratio_intMedia', 'ratio_extMedia', 'sfh', 'iframe', 'popup_window', 'safe_anchor', 'onmouseover', 'right_clic', 'empty_title', 'domain_in_title', 'domain_with_copyright', 'whois_registered_domain', 'domain_registration_length', 'domain_age', 'web_traffic', 'dns_record', 'google_index', 'page_rank', 'status']\n",
      "[0, 0, 0, 0, 0, 0, 0, 0, 0, 0, 0, 0, 0, 0, 0, 0, 0, 0, 0, 0, 0, 0, 0, 0, 0, 0, 0, 0, 0, 0, 0, 0, 0, 0, 0, 0, 0, 0, 0, 0, 0, 0, 0, 0, 0, 0, 0, 0, 0, 0, 0, 0, 0, 0, 0, 0, 0, 0, 0, 0, 0, 0, 0, 0, 0, 0, 0, 0, 0, 0, 0, 0, 0, 0, 0, 0, 0, 0, 0, 0, 0, 0, 0, 0, 0, 0, 0, 0, 0]\n"
     ]
    }
   ],
   "source": [
    "#--convertir los tipos de datos----\n",
    "# Convirtiendo Columna status a numerica\n",
    "df[\"status\"] = df[\"status\"].map({\"phishing\": 1, \"legitimate\": 0})\n",
    "\n",
    "# Columna innecesaria porque ya se tiene su longitud\n",
    "dfProcessed = df.drop('url', axis=1)\n",
    "\n",
    "print(list(dfProcessed.columns))\n",
    "nulos_por_columna = df.isnull().sum()\n",
    "print(list(nulos_por_columna))\n"
   ]
  },
  {
   "cell_type": "markdown",
   "metadata": {},
   "source": [
    "## Regresión Logística sin libreríars "
   ]
  },
  {
   "cell_type": "code",
   "execution_count": 25,
   "metadata": {
    "vscode": {
     "languageId": "markdown"
    }
   },
   "outputs": [
    {
     "name": "stdout",
     "output_type": "stream",
     "text": [
      "(9144, 87)\n",
      "(9144,)\n",
      "<class 'numpy.ndarray'>\n"
     ]
    },
    {
     "name": "stderr",
     "output_type": "stream",
     "text": [
      "C:\\Users\\Francis\\AppData\\Local\\Temp\\ipykernel_2664\\2224873843.py:23: RuntimeWarning: overflow encountered in exp\n",
      "  return 1 / (1 + np.exp(-z))\n"
     ]
    },
    {
     "name": "stdout",
     "output_type": "stream",
     "text": [
      "[ 1.97207104e+00  2.08516178e+02  6.79686859e+01  1.15969757e+00\n",
      "  6.87879042e+00 -1.20721559e+00  2.71363338e-01  1.13871524e+00\n",
      "  1.06375914e+00  0.00000000e+00  2.10628418e+00  5.76382217e-01\n",
      "  3.18659236e-02  3.11139781e-01  1.23903632e+01  5.98152127e-03\n",
      "  2.25364925e+00  1.16182603e-02  4.25327539e-01  1.60219812e-02\n",
      "  8.64949062e-03 -1.56163040e+00  7.05356592e-01  4.88778267e-02\n",
      "  8.90978010e-02  1.73795331e+00  3.51867719e-01  2.13443382e-01\n",
      "  1.96030068e-03  5.54154717e-03  2.53371711e-01  3.60189221e-01\n",
      "  1.36268610e-01  4.70518667e+00  1.20419033e+00  1.36503349e-01\n",
      "  8.76930727e-01 -7.09905946e-04  7.91844886e-01  1.37848094e-02\n",
      "  1.80684301e+01  3.93363842e+00  6.20793145e+00  1.98282864e+01\n",
      "  6.27096016e+00  6.30833866e+01  2.85499459e+01  5.42596344e+01\n",
      "  2.06362550e+01  2.35277920e+01  2.01493751e+01  3.47539067e+00\n",
      "  4.04718686e-01  3.58903473e-02  4.57792355e-02  1.46311031e-01\n",
      "  3.74008092e-01 -3.65922087e+02  4.62038622e-02  1.10308826e+00\n",
      "  0.00000000e+00  1.84746781e-01  0.00000000e+00 -2.44468091e-02\n",
      "  0.00000000e+00  1.02017432e-01  1.02093936e-01  3.80878282e-01\n",
      "  7.92426481e+00  0.00000000e+00 -1.35467200e+01  5.45345885e+00\n",
      "  0.00000000e+00  2.26323272e-03 -4.98375984e-02 -6.18805388e-01\n",
      " -3.05774278e-03  6.73447069e-03  8.47213606e-01  2.94539849e+00\n",
      "  1.07049742e-01  8.53970587e-02 -5.46462561e+01 -1.65657865e+01\n",
      " -2.26998890e+02  1.32835358e-01  4.73923831e+00 -5.53377439e+00]\n",
      "accuracy score:  0.5695538057742782\n"
     ]
    },
    {
     "data": {
      "image/png": "[encoded data removed]",
      "text/plain": [
       "<Figure size 640x480 with 2 Axes>"
      ]
     },
     "metadata": {},
     "output_type": "display_data"
    }
   ],
   "source": [
    "data = dfProcessed\n",
    "split_index = int(len(data) * 0.8)\n",
    "\n",
    "X = data.drop(\"status\", axis=1).iloc[:split_index, :]\n",
    "y = data[\"status\"].iloc[:split_index]\n",
    "\n",
    "X_test = data.drop(\"status\", axis=1).iloc[split_index:, :]\n",
    "Y_test = data[\"status\"].iloc[split_index:]\n",
    "\n",
    "print(X.shape)\n",
    "print(y.shape)\n",
    "\n",
    "X = X.values\n",
    "print(type(X))\n",
    "y = y.values\n",
    "\n",
    "# weights\n",
    "theta = np.zeros(X.shape[1] + 1) # +1 for the bias\n",
    "\n",
    "\n",
    "# funcion simboidem, en donde z es un vector \n",
    "def sigmoid(z):\n",
    "    return 1 / (1 + np.exp(-z))\n",
    "\n",
    "# funcion de perdida \n",
    "\n",
    "def cost_function(X, y, theta):\n",
    "    m = len()\n",
    "    h = sigmoid(X.dot(theta))\n",
    "    J = -1/m * (y.T @ np.log(h) + (1-y).T @ np.log(1-h))  \n",
    "    return J\n",
    "\n",
    "def gradient_descent(X, y, theta, alpha, iterations):\n",
    "    m = len(y)\n",
    "    for _ in range(iterations):\n",
    "        X_with_bias = np.hstack([np.ones((m, 1)), X])\n",
    "\n",
    "        h = sigmoid(X_with_bias @ theta)  # Use X_with_bias for both h and gradient\n",
    "        gradient = 1/m * X_with_bias.T @ (h - y)  # Calculate gradient with bias\n",
    "        theta -= alpha * gradient  # Update parameters\n",
    "\n",
    "    return theta\n",
    "\n",
    "alpha = 0.01  # Learning rate\n",
    "iterations = 1800  # Number of iterations\n",
    "\n",
    "theta = gradient_descent(X, y, theta, alpha, iterations) \n",
    "print(theta)\n",
    "\n",
    "def predict(X, theta):\n",
    "    \"\"\"Makes predictions using the trained logistic regression model and returns 1s and 0s.\"\"\"\n",
    "\n",
    "    # Add a column of ones to X for the bias term\n",
    "    X_with_bias = np.hstack([np.ones((X.shape[0], 1)), X])\n",
    "\n",
    "    z = X_with_bias @ theta  # Calculate predictions with bias\n",
    "\n",
    "    # Convert boolean results to 1s and 0s using np.where\n",
    "    predictions = np.where(sigmoid(z) >= 0.5, 1, 0)\n",
    "\n",
    "    return predictions  # Return the array of 1s and 0s\n",
    "\n",
    "\n",
    "\n",
    "y_pred = predict(X_test, theta)\n",
    "cm = confusion_matrix(Y_test, y_pred)\n",
    "score = accuracy_score(Y_test, y_pred)\n",
    "print(\"accuracy score: \", score)\n",
    "sns.heatmap(cm, annot=True, fmt='d', cmap='Blues', xticklabels=['No Phishing', 'Phishing'], yticklabels=['No Phishing', 'Phishing'])\n",
    "plt.xlabel('Predicción')\n",
    "plt.ylabel('Realidad')\n",
    "plt.title('Matriz de Confusión')\n",
    "plt.show()\n"
   ]
  },
  {
   "cell_type": "markdown",
   "metadata": {},
   "source": [
    "### Parte con librerias "
   ]
  },
  {
   "cell_type": "code",
   "execution_count": 26,
   "metadata": {
    "vscode": {
     "languageId": "markdown"
    }
   },
   "outputs": [],
   "source": [
    "#clase de RL\n",
    "import numpy as np\n",
    "import matplotlib.pyplot as plt\n",
    "\n",
    "class LogisticRegression:\n",
    "    def __init__(self, learning_rate=0.01, epochs=1000):\n",
    "        self.learning_rate = learning_rate\n",
    "        self.epochs = epochs\n",
    "        self.weights = None\n",
    "        self.bias = None\n",
    "\n",
    "    #convertir la salida lineal del modelo en una probabilidad\n",
    "    def sigmoid(self, z):\n",
    "        return 1 / (1 + np.exp(-z))\n",
    "    \n",
    "    #entrenar el modelo con el conjunto de datos\n",
    "    def fit(self, X, y):\n",
    "        n_samples, n_features = X.shape\n",
    "        y = np.array(y).reshape(-1, 1) \n",
    "        \n",
    "        # inicializa con los pesos y el sesgo\n",
    "        self.weights = np.zeros((n_features, 1))\n",
    "        self.bias = 0\n",
    "        \n",
    "        # GRADIENTE DESCENDIENTE\n",
    "        for i in range(self.epochs):\n",
    "            linear_model = np.dot(X, self.weights) + self.bias\n",
    "            predictions = self.sigmoid(linear_model)\n",
    "            \n",
    "            dw = (1/n_samples) * np.dot(X.T, (predictions - y))\n",
    "            db = (1/n_samples) * np.sum(predictions - y)\n",
    "            \n",
    "            self.weights -= self.learning_rate * dw\n",
    "            self.bias -= self.learning_rate * db\n",
    "\n",
    "\n",
    "    #predecir la salida del modelo para un conjunto de datos\n",
    "    def predict(self, X):\n",
    "        linear_model = np.dot(X, self.weights) + self.bias\n",
    "        predictions = self.sigmoid(linear_model)\n",
    "        \n",
    "        return (predictions >= 0.5).astype(int) #.astype(int) asegura que sea entero\n",
    "        "
   ]
  },
  {
   "cell_type": "code",
   "execution_count": 27,
   "metadata": {
    "vscode": {
     "languageId": "markdown"
    }
   },
   "outputs": [
    {
     "name": "stdout",
     "output_type": "stream",
     "text": [
      "Index(['length_url', 'length_hostname', 'ip', 'nb_dots', 'nb_hyphens', 'nb_at',\n",
      "       'nb_qm', 'nb_and', 'nb_or', 'nb_eq', 'nb_underscore', 'nb_tilde',\n",
      "       'nb_percent', 'nb_slash', 'nb_star', 'nb_colon', 'nb_comma',\n",
      "       'nb_semicolumn', 'nb_dollar', 'nb_space', 'nb_www', 'nb_com',\n",
      "       'nb_dslash', 'http_in_path', 'https_token', 'ratio_digits_url',\n",
      "       'ratio_digits_host', 'punycode', 'port', 'tld_in_path',\n",
      "       'tld_in_subdomain', 'abnormal_subdomain', 'nb_subdomains',\n",
      "       'prefix_suffix', 'random_domain', 'shortening_service',\n",
      "       'path_extension', 'nb_redirection', 'nb_external_redirection',\n",
      "       'length_words_raw', 'char_repeat', 'shortest_words_raw',\n",
      "       'shortest_word_host', 'shortest_word_path', 'longest_words_raw',\n",
      "       'longest_word_host', 'longest_word_path', 'avg_words_raw',\n",
      "       'avg_word_host', 'avg_word_path', 'phish_hints', 'domain_in_brand',\n",
      "       'brand_in_subdomain', 'brand_in_path', 'suspecious_tld',\n",
      "       'statistical_report', 'nb_hyperlinks', 'ratio_intHyperlinks',\n",
      "       'ratio_extHyperlinks', 'ratio_nullHyperlinks', 'nb_extCSS',\n",
      "       'ratio_intRedirection', 'ratio_extRedirection', 'ratio_intErrors',\n",
      "       'ratio_extErrors', 'login_form', 'external_favicon', 'links_in_tags',\n",
      "       'submit_email', 'ratio_intMedia', 'ratio_extMedia', 'sfh', 'iframe',\n",
      "       'popup_window', 'safe_anchor', 'onmouseover', 'right_clic',\n",
      "       'empty_title', 'domain_in_title', 'domain_with_copyright',\n",
      "       'whois_registered_domain', 'domain_registration_length', 'domain_age',\n",
      "       'web_traffic', 'dns_record', 'google_index', 'page_rank', 'status'],\n",
      "      dtype='object')\n",
      "   length_url  length_hostname        ip   nb_dots  nb_hyphens     nb_at  \\\n",
      "0   -0.436327        -0.193964 -0.421020  0.379116   -0.477984 -0.142915   \n",
      "1    0.287067         0.177207  2.375182 -1.081136   -0.477984 -0.142915   \n",
      "2    1.173224         2.682613  2.375182  1.109242    0.001174 -0.142915   \n",
      "3   -0.779940        -0.936306 -0.421020 -0.351010   -0.477984 -0.142915   \n",
      "4   -0.110800        -0.565135 -0.421020 -0.351010    0.480332 -0.142915   \n",
      "\n",
      "      nb_qm    nb_and  nb_or     nb_eq  ...  domain_in_title  \\\n",
      "0 -0.387464 -0.197604    0.0 -0.293683  ...        -1.860473   \n",
      "1 -0.387464 -0.197604    0.0 -0.293683  ...         0.537498   \n",
      "2  2.356473  2.237556    0.0  2.711505  ...         0.537498   \n",
      "3 -0.387464 -0.197604    0.0 -0.293683  ...         0.537498   \n",
      "4 -0.387464 -0.197604    0.0 -0.293683  ...        -1.860473   \n",
      "\n",
      "   domain_with_copyright  whois_registered_domain  domain_registration_length  \\\n",
      "0               1.129194                 -0.28037                   -0.549299   \n",
      "1              -0.885587                 -0.28037                   -0.510022   \n",
      "2              -0.885587                 -0.28037                   -0.587348   \n",
      "3              -0.885587                 -0.28037                   -0.528433   \n",
      "4               1.129194                 -0.28037                   -0.329595   \n",
      "\n",
      "   domain_age  web_traffic  dns_record  google_index  page_rank  status  \n",
      "0   -1.307594    -0.429340    6.978227      0.934264   0.320974    -1.0  \n",
      "1    0.548471    -0.429340   -0.143303      0.934264  -0.467407     1.0  \n",
      "2   -0.018839     2.491612   -0.143303      0.934264  -1.255788     1.0  \n",
      "3   -1.307594    -0.375359   -0.143303     -1.070361  -0.073217    -1.0  \n",
      "4    1.323334    -0.424968   -0.143303     -1.070361   1.109355    -1.0  \n",
      "\n",
      "[5 rows x 88 columns]\n"
     ]
    }
   ],
   "source": [
    "#normalizacion de datos \n",
    "#nombre de las columnas numericas a normalizar\n",
    "numeric_columns = dfProcessed.select_dtypes(include=[np.number]).columns\n",
    "print(numeric_columns)\n",
    "\n",
    "#normalizar las columnas\n",
    "scaler = StandardScaler()\n",
    "\n",
    "dfProcessed[numeric_columns] = scaler.fit_transform(dfProcessed[numeric_columns])\n",
    "\n",
    "print(dfProcessed.head())"
   ]
  },
  {
   "cell_type": "code",
   "execution_count": 28,
   "metadata": {
    "vscode": {
     "languageId": "markdown"
    }
   },
   "outputs": [
    {
     "name": "stdout",
     "output_type": "stream",
     "text": [
      "predicciones:\n",
      "[[0]\n",
      " [0]\n",
      " [0]\n",
      " ...\n",
      " [1]\n",
      " [0]\n",
      " [1]]\n"
     ]
    }
   ],
   "source": [
    "#---Crear conjuntos de entrenamiento y prueba\n",
    "X = dfProcessed.drop('status', axis=1)\n",
    "y = dfProcessed['status']\n",
    "X_train, X_test, y_train, y_test = train_test_split(X, y, test_size=0.2, random_state=42)\n",
    "\n",
    "# Entrenamiento del modelo\n",
    "model = LogisticRegression(learning_rate=0.01, epochs=1000)\n",
    "model.fit(X_train, y_train)\n",
    "\n",
    "# Predecir sobre los datos de prueba\n",
    "predicciones = model.predict(X_test)\n",
    "print('predicciones:')\n",
    "print(predicciones)\n",
    "\n",
    "\n",
    "# Asegurarse de que y_test sea un vector 1D y tenga valores 0 y 1\n",
    "y_test = y_test.to_numpy().flatten()\n",
    "y_test = np.where(y_test == -1, 0, y_test)  # Convertir -1 a 0 \n",
    "\n"
   ]
  },
  {
   "cell_type": "code",
   "execution_count": 29,
   "metadata": {
    "vscode": {
     "languageId": "markdown"
    }
   },
   "outputs": [
    {
     "name": "stdout",
     "output_type": "stream",
     "text": [
      "metricas de desempeño:\n",
      "Precision: 0.9631236442516269\n",
      "accuracy (Exactitud)::  0.8797025371828522\n",
      "recall (Sensibilidad):  0.7865367581930912\n",
      "f1 score:  0.8659190638712823\n",
      "el valor de f1 al ser cercano a 1 indica un buen equilibrio entre la presicion y el recall, entonces el modelo tiene un buen rendimiento en estas metricas\n",
      "Confusion Matrix:\n",
      " [[1123   34]\n",
      " [ 241  888]]\n"
     ]
    }
   ],
   "source": [
    "#metricas de desempeño\n",
    "# Calcular la precisión del modelo\n",
    "print(\"metricas de desempeño:\")\n",
    "\n",
    "precision = precision_score(y_test, predicciones)\n",
    "print(\"Precision:\", precision)\n",
    "\n",
    "accuracy = accuracy_score(y_test, predicciones)\n",
    "print('accuracy (Exactitud):: ', accuracy)\n",
    "recall= recall_score(y_test, predicciones)\n",
    "print('recall (Sensibilidad): ', recall)\n",
    "\n",
    "f1= f1_score(y_test, predicciones)\n",
    "print('f1 score: ', f1)\n",
    "print('el valor de f1 al ser cercano a 1 indica un buen equilibrio entre la presicion y el recall, entonces el modelo tiene un buen rendimiento en estas metricas')\n",
    "\n",
    "matriz_de_confusion= confusion_matrix(y_test, predicciones)\n",
    "print(f\"Confusion Matrix:\\n {matriz_de_confusion}\")"
   ]
  },
  {
   "cell_type": "code",
   "execution_count": 30,
   "metadata": {
    "vscode": {
     "languageId": "markdown"
    }
   },
   "outputs": [
    {
     "data": {
      "image/png": "[encoded data removed]",
      "text/plain": [
       "<Figure size 800x600 with 2 Axes>"
      ]
     },
     "metadata": {},
     "output_type": "display_data"
    },
    {
     "name": "stdout",
     "output_type": "stream",
     "text": [
      "accuracy score:  0.8797025371828522\n"
     ]
    }
   ],
   "source": [
    "#Matriz de confusion\n",
    "#mapa de calor para la matriz de confusión\n",
    "plt.figure(figsize=(8, 6))\n",
    "sns.heatmap(matriz_de_confusion, annot=True, fmt='d', cmap='Blues', xticklabels=['No Phishing', 'Phishing'], yticklabels=['No Phishing', 'Phishing'])\n",
    "plt.xlabel('Predicción')\n",
    "plt.ylabel('Realidad')\n",
    "plt.title('Matriz de Confusión')\n",
    "plt.show()\n",
    "\n",
    "# Calcular y mostrar el puntaje de exactitud (accuracy)\n",
    "score = accuracy_score(y_test, predicciones)\n",
    "print(\"accuracy score: \", score)"
   ]
  },
  {
   "cell_type": "markdown",
   "metadata": {},
   "source": [
    "### ¿Cuál implementación fue mejor? ¿Por qué?\n",
    "La implementación del modelo con las librerias obtuvo un mejor resultado y se puede observar tanto en el accuracy score, como en el las matrices de confusión. Esto se puede dar a que la función del gradiente de la librería está optimizada y mejorada pra presentar datos más acertados, en comparación con la creada desde cero que puede que tenga algunos errores, ya sea de optimización o de control de los datos. También se ven involucrados los learning rates escogidos, ya que esto puede variar el resultado. "
   ]
  },
  {
   "cell_type": "markdown",
   "metadata": {},
   "source": [
    "----------------------------------------------------------------------------"
   ]
  },
  {
   "cell_type": "markdown",
   "metadata": {},
   "source": [
    "## 2.2"
   ]
  },
  {
   "cell_type": "code",
   "execution_count": 31,
   "metadata": {
    "vscode": {
     "languageId": "markdown"
    }
   },
   "outputs": [],
   "source": [
    "import numpy as np\n",
    "import pandas as pd\n",
    "\n",
    "df = pd.read_csv(\"./Dataset/dataset_phishing.csv\")"
   ]
  },
  {
   "cell_type": "code",
   "execution_count": 32,
   "metadata": {
    "vscode": {
     "languageId": "markdown"
    }
   },
   "outputs": [
    {
     "name": "stdout",
     "output_type": "stream",
     "text": [
      "['url', 'length_url', 'length_hostname', 'ip', 'nb_dots', 'nb_hyphens', 'nb_at', 'nb_qm', 'nb_and', 'nb_or', 'nb_eq', 'nb_underscore', 'nb_tilde', 'nb_percent', 'nb_slash', 'nb_star', 'nb_colon', 'nb_comma', 'nb_semicolumn', 'nb_dollar', 'nb_space', 'nb_www', 'nb_com', 'nb_dslash', 'http_in_path', 'https_token', 'ratio_digits_url', 'ratio_digits_host', 'punycode', 'port', 'tld_in_path', 'tld_in_subdomain', 'abnormal_subdomain', 'nb_subdomains', 'prefix_suffix', 'random_domain', 'shortening_service', 'path_extension', 'nb_redirection', 'nb_external_redirection', 'length_words_raw', 'char_repeat', 'shortest_words_raw', 'shortest_word_host', 'shortest_word_path', 'longest_words_raw', 'longest_word_host', 'longest_word_path', 'avg_words_raw', 'avg_word_host', 'avg_word_path', 'phish_hints', 'domain_in_brand', 'brand_in_subdomain', 'brand_in_path', 'suspecious_tld', 'statistical_report', 'nb_hyperlinks', 'ratio_intHyperlinks', 'ratio_extHyperlinks', 'ratio_nullHyperlinks', 'nb_extCSS', 'ratio_intRedirection', 'ratio_extRedirection', 'ratio_intErrors', 'ratio_extErrors', 'login_form', 'external_favicon', 'links_in_tags', 'submit_email', 'ratio_intMedia', 'ratio_extMedia', 'sfh', 'iframe', 'popup_window', 'safe_anchor', 'onmouseover', 'right_clic', 'empty_title', 'domain_in_title', 'domain_with_copyright', 'whois_registered_domain', 'domain_registration_length', 'domain_age', 'web_traffic', 'dns_record', 'google_index', 'page_rank', 'status']\n",
      "- - - - - - - BALANCEO - - - - - - -\n",
      "status\n",
      "legitimate    5715\n",
      "phishing      5715\n",
      "Name: count, dtype: int64\n",
      "- - - - - - - TIPOS DE DATOS - - - - - - -\n",
      "int64      74\n",
      "float64    13\n",
      "object      2\n",
      "Name: count, dtype: int64\n",
      "- - - - - - - VALORES NULLS - - - - - - -\n",
      "         url  length_url  length_hostname     ip  nb_dots  nb_hyphens  nb_at  \\\n",
      "0      False       False            False  False    False       False  False   \n",
      "1      False       False            False  False    False       False  False   \n",
      "2      False       False            False  False    False       False  False   \n",
      "3      False       False            False  False    False       False  False   \n",
      "4      False       False            False  False    False       False  False   \n",
      "...      ...         ...              ...    ...      ...         ...    ...   \n",
      "11425  False       False            False  False    False       False  False   \n",
      "11426  False       False            False  False    False       False  False   \n",
      "11427  False       False            False  False    False       False  False   \n",
      "11428  False       False            False  False    False       False  False   \n",
      "11429  False       False            False  False    False       False  False   \n",
      "\n",
      "       nb_qm  nb_and  nb_or  ...  domain_in_title  domain_with_copyright  \\\n",
      "0      False   False  False  ...            False                  False   \n",
      "1      False   False  False  ...            False                  False   \n",
      "2      False   False  False  ...            False                  False   \n",
      "3      False   False  False  ...            False                  False   \n",
      "4      False   False  False  ...            False                  False   \n",
      "...      ...     ...    ...  ...              ...                    ...   \n",
      "11425  False   False  False  ...            False                  False   \n",
      "11426  False   False  False  ...            False                  False   \n",
      "11427  False   False  False  ...            False                  False   \n",
      "11428  False   False  False  ...            False                  False   \n",
      "11429  False   False  False  ...            False                  False   \n",
      "\n",
      "       whois_registered_domain  domain_registration_length  domain_age  \\\n",
      "0                        False                       False       False   \n",
      "1                        False                       False       False   \n",
      "2                        False                       False       False   \n",
      "3                        False                       False       False   \n",
      "4                        False                       False       False   \n",
      "...                        ...                         ...         ...   \n",
      "11425                    False                       False       False   \n",
      "11426                    False                       False       False   \n",
      "11427                    False                       False       False   \n",
      "11428                    False                       False       False   \n",
      "11429                    False                       False       False   \n",
      "\n",
      "       web_traffic  dns_record  google_index  page_rank  status  \n",
      "0            False       False         False      False   False  \n",
      "1            False       False         False      False   False  \n",
      "2            False       False         False      False   False  \n",
      "3            False       False         False      False   False  \n",
      "4            False       False         False      False   False  \n",
      "...            ...         ...           ...        ...     ...  \n",
      "11425        False       False         False      False   False  \n",
      "11426        False       False         False      False   False  \n",
      "11427        False       False         False      False   False  \n",
      "11428        False       False         False      False   False  \n",
      "11429        False       False         False      False   False  \n",
      "\n",
      "[11430 rows x 89 columns]\n",
      "[0, 0, 0, 0, 0, 0, 0, 0, 0, 0, 0, 0, 0, 0, 0, 0, 0, 0, 0, 0, 0, 0, 0, 0, 0, 0, 0, 0, 0, 0, 0, 0, 0, 0, 0, 0, 0, 0, 0, 0, 0, 0, 0, 0, 0, 0, 0, 0, 0, 0, 0, 0, 0, 0, 0, 0, 0, 0, 0, 0, 0, 0, 0, 0, 0, 0, 0, 0, 0, 0, 0, 0, 0, 0, 0, 0, 0, 0, 0, 0, 0, 0, 0, 0, 0, 0, 0, 0, 0]\n"
     ]
    }
   ],
   "source": [
    "# Exploracion de datos\n",
    "# Para saber las columnas del dataset\n",
    "print(list(df.columns))\n",
    "\n",
    "# Para saber si el dataset esta balanceado\n",
    "print(\"- - - - - - - BALANCEO - - - - - - -\")\n",
    "print(df[\"status\"].value_counts())\n",
    "\n",
    "# Obtener tipos de datos\n",
    "tipos_de_datos = df.dtypes.value_counts()\n",
    "\n",
    "# Mostrar tipos de datos con nombres de columnas\n",
    "print(\"- - - - - - - TIPOS DE DATOS - - - - - - -\")\n",
    "print(tipos_de_datos)\n",
    "\n",
    "# Buscando valores nulls\n",
    "print(\"- - - - - - - VALORES NULLS - - - - - - -\")\n",
    "nulos = df.isnull()\n",
    "print(nulos)\n",
    "\n",
    "nulos_por_columna = df.isnull().sum()\n",
    "print(list(nulos_por_columna))\n"
   ]
  },
  {
   "cell_type": "code",
   "execution_count": 33,
   "metadata": {
    "vscode": {
     "languageId": "markdown"
    }
   },
   "outputs": [
    {
     "name": "stdout",
     "output_type": "stream",
     "text": [
      "['length_url', 'length_hostname', 'ip', 'nb_dots', 'nb_hyphens', 'nb_at', 'nb_qm', 'nb_and', 'nb_or', 'nb_eq', 'nb_underscore', 'nb_tilde', 'nb_percent', 'nb_slash', 'nb_star', 'nb_colon', 'nb_comma', 'nb_semicolumn', 'nb_dollar', 'nb_space', 'nb_www', 'nb_com', 'nb_dslash', 'http_in_path', 'https_token', 'ratio_digits_url', 'ratio_digits_host', 'punycode', 'port', 'tld_in_path', 'tld_in_subdomain', 'abnormal_subdomain', 'nb_subdomains', 'prefix_suffix', 'random_domain', 'shortening_service', 'path_extension', 'nb_redirection', 'nb_external_redirection', 'length_words_raw', 'char_repeat', 'shortest_words_raw', 'shortest_word_host', 'shortest_word_path', 'longest_words_raw', 'longest_word_host', 'longest_word_path', 'avg_words_raw', 'avg_word_host', 'avg_word_path', 'phish_hints', 'domain_in_brand', 'brand_in_subdomain', 'brand_in_path', 'suspecious_tld', 'statistical_report', 'nb_hyperlinks', 'ratio_intHyperlinks', 'ratio_extHyperlinks', 'ratio_nullHyperlinks', 'nb_extCSS', 'ratio_intRedirection', 'ratio_extRedirection', 'ratio_intErrors', 'ratio_extErrors', 'login_form', 'external_favicon', 'links_in_tags', 'submit_email', 'ratio_intMedia', 'ratio_extMedia', 'sfh', 'iframe', 'popup_window', 'safe_anchor', 'onmouseover', 'right_clic', 'empty_title', 'domain_in_title', 'domain_with_copyright', 'whois_registered_domain', 'domain_registration_length', 'domain_age', 'web_traffic', 'dns_record', 'google_index', 'page_rank', 'status']\n",
      "[0, 0, 0, 0, 0, 0, 0, 0, 0, 0, 0, 0, 0, 0, 0, 0, 0, 0, 0, 0, 0, 0, 0, 0, 0, 0, 0, 0, 0, 0, 0, 0, 0, 0, 0, 0, 0, 0, 0, 0, 0, 0, 0, 0, 0, 0, 0, 0, 0, 0, 0, 0, 0, 0, 0, 0, 0, 0, 0, 0, 0, 0, 0, 0, 0, 0, 0, 0, 0, 0, 0, 0, 0, 0, 0, 0, 0, 0, 0, 0, 0, 0, 0, 0, 0, 0, 0, 0, 0]\n"
     ]
    }
   ],
   "source": [
    "# Convirtiendo Columna status a numerica\n",
    "df[\"status\"] = df[\"status\"].map({\"phishing\": 1, \"legitimate\": 0})\n",
    "\n",
    "\n",
    "# Columna innecesaria porque ya se tiene su longitud\n",
    "dfProcessed = df.drop('url', axis=1)\n",
    "\n",
    "print(list(dfProcessed.columns))\n",
    "nulos_por_columna = df.isnull().sum()\n",
    "print(list(nulos_por_columna))\n"
   ]
  },
  {
   "cell_type": "code",
   "execution_count": 34,
   "metadata": {
    "vscode": {
     "languageId": "markdown"
    }
   },
   "outputs": [],
   "source": [
    "# Este codigo lo dejo aqui porque fue el primer intento del KNN y se tardo demadiado, lo decidi optimizar\n",
    "# def euclidean(x, y):\n",
    "#     return np.sqrt(np.sum((x - y) ** 2))\n",
    "\n",
    "# def Knn(x_train, y_train, x_test, k):\n",
    "#     y_pred = []\n",
    "#     for i in range(x_test.shape[0]):\n",
    "#         distances = []\n",
    "#         for j in range(x_train.shape[0]):\n",
    "#             distances.append(euclidean(x_test.iloc[i], x_train.iloc[j]))\n",
    "#         distances = np.array(distances)\n",
    "#         k_nearest = np.argsort(distances)[:k]\n",
    "#         k_nearest_labels = y_train.iloc[k_nearest]\n",
    "#         y_pred.append(k_nearest_labels.value_counts().idxmax())\n",
    "#     return y_pred\n",
    "\n",
    "def Knn_optimized(x_train, y_train, x_test, k):\n",
    "    y_pred = []\n",
    "    x_train = x_train.to_numpy() \n",
    "    x_test = x_test.to_numpy()\n",
    "\n",
    "    for x in x_test:\n",
    "        # Calcular la distancia euclidiana\n",
    "        distances = np.sqrt(((x_train - x) ** 2).sum(axis=1))\n",
    "\n",
    "        k_nearest = np.argpartition(distances, k)[:k]\n",
    "        k_nearest_labels = y_train.iloc[k_nearest]\n",
    "        y_pred.append(k_nearest_labels.value_counts().idxmax())\n",
    "    \n",
    "    return y_pred\n",
    "\n",
    "# Seleccionar 80% de los datos para entrenamiento\n",
    "train = dfProcessed.sample(frac=0.8, random_state=42)\n",
    "\n",
    "# # Usar el resto (20%) para prueba\n",
    "test = dfProcessed.drop(train.index)\n",
    "\n",
    "# Train\n",
    "train_y = train.pop('status')\n",
    "train_x = train\n",
    "\n",
    "# Test\n",
    "test_y = test.pop('status')\n",
    "test_x = test\n",
    "\n",
    "y_pred = Knn_optimized(train_x, train_y, test_x, 3)\n",
    "# print(res)\n"
   ]
  },
  {
   "cell_type": "code",
   "execution_count": 35,
   "metadata": {
    "vscode": {
     "languageId": "markdown"
    }
   },
   "outputs": [
    {
     "name": "stdout",
     "output_type": "stream",
     "text": [
      "Accuracy (Exactitud): 0.8429571303587051\n",
      "Precision (Precisión): 0.8177257525083612\n",
      "Recall (Sensibilidad): 0.8739946380697051\n"
     ]
    }
   ],
   "source": [
    "df_results = pd.DataFrame({'Real': test_y, 'Predicho': y_pred})\n",
    "\n",
    "y_pred = np.array(y_pred)\n",
    "\n",
    "TP = np.sum((test_y == 1) & (y_pred == 1))\n",
    "TN = np.sum((test_y == 0) & (y_pred == 0))\n",
    "FP = np.sum((test_y == 0) & (y_pred == 1))\n",
    "FN = np.sum((test_y == 1) & (y_pred == 0))\n",
    "\n",
    "accuracy = (TP + TN) / len(test_y) if len(test_y) > 0 else 0\n",
    "precision = TP / (TP + FP) if (TP + FP) > 0 else 0\n",
    "recall = TP / (TP + FN) if (TP + FN) > 0 else 0\n",
    "\n",
    "print(\"Accuracy (Exactitud):\", accuracy)\n",
    "print(\"Precision (Precisión):\", precision)\n",
    "print(\"Recall (Sensibilidad):\", recall)"
   ]
  },
  {
   "cell_type": "code",
   "execution_count": 36,
   "metadata": {
    "vscode": {
     "languageId": "markdown"
    }
   },
   "outputs": [
    {
     "data": {
      "image/png": "[encoded data removed]",
      "text/plain": [
       "<Figure size 800x600 with 2 Axes>"
      ]
     },
     "metadata": {},
     "output_type": "display_data"
    }
   ],
   "source": [
    "import numpy as np\n",
    "import matplotlib.pyplot as plt\n",
    "import seaborn as sns\n",
    "\n",
    "# Valores de la matriz de confusión\n",
    "conf_matrix = np.array([[TN, FP],  # Primera fila: Verdaderos negativos, Falsos positivos\n",
    "                        [FN, TP]])  # Segunda fila: Falsos negativos, Verdaderos positivos\n",
    "\n",
    "# Crear la gráfica de la matriz de confusión\n",
    "plt.figure(figsize=(8, 6))\n",
    "sns.heatmap(conf_matrix, annot=True, fmt=\"d\", cmap=\"Blues\", xticklabels=[\"Predicho 0\", \"Predicho 1\"], yticklabels=[\"Real 0\", \"Real 1\"])\n",
    "\n",
    "# Personalizar\n",
    "plt.title(\"Matriz de Confusión\", fontsize=16)\n",
    "plt.xlabel(\"Clase Predicha\", fontsize=14)\n",
    "plt.ylabel(\"Clase Real\", fontsize=14)\n",
    "plt.show()"
   ]
  },
  {
   "cell_type": "code",
   "execution_count": 37,
   "metadata": {
    "vscode": {
     "languageId": "markdown"
    }
   },
   "outputs": [
    {
     "name": "stdout",
     "output_type": "stream",
     "text": [
      "['length_url', 'length_hostname', 'ip', 'nb_dots', 'nb_hyphens', 'nb_at', 'nb_qm', 'nb_and', 'nb_or', 'nb_eq', 'nb_underscore', 'nb_tilde', 'nb_percent', 'nb_slash', 'nb_star', 'nb_colon', 'nb_comma', 'nb_semicolumn', 'nb_dollar', 'nb_space', 'nb_www', 'nb_com', 'nb_dslash', 'http_in_path', 'https_token', 'ratio_digits_url', 'ratio_digits_host', 'punycode', 'port', 'tld_in_path', 'tld_in_subdomain', 'abnormal_subdomain', 'nb_subdomains', 'prefix_suffix', 'random_domain', 'shortening_service', 'path_extension', 'nb_redirection', 'nb_external_redirection', 'length_words_raw', 'char_repeat', 'shortest_words_raw', 'shortest_word_host', 'shortest_word_path', 'longest_words_raw', 'longest_word_host', 'longest_word_path', 'avg_words_raw', 'avg_word_host', 'avg_word_path', 'phish_hints', 'domain_in_brand', 'brand_in_subdomain', 'brand_in_path', 'suspecious_tld', 'statistical_report', 'nb_hyperlinks', 'ratio_intHyperlinks', 'ratio_extHyperlinks', 'ratio_nullHyperlinks', 'nb_extCSS', 'ratio_intRedirection', 'ratio_extRedirection', 'ratio_intErrors', 'ratio_extErrors', 'login_form', 'external_favicon', 'links_in_tags', 'submit_email', 'ratio_intMedia', 'ratio_extMedia', 'sfh', 'iframe', 'popup_window', 'safe_anchor', 'onmouseover', 'right_clic', 'empty_title', 'domain_in_title', 'domain_with_copyright', 'whois_registered_domain', 'domain_registration_length', 'domain_age', 'web_traffic', 'dns_record', 'google_index', 'page_rank', 'status']\n",
      "[0, 0, 0, 0, 0, 0, 0, 0, 0, 0, 0, 0, 0, 0, 0, 0, 0, 0, 0, 0, 0, 0, 0, 0, 0, 0, 0, 0, 0, 0, 0, 0, 0, 0, 0, 0, 0, 0, 0, 0, 0, 0, 0, 0, 0, 0, 0, 0, 0, 0, 0, 0, 0, 0, 0, 0, 0, 0, 0, 0, 0, 0, 0, 0, 0, 0, 0, 0, 0, 0, 0, 0, 0, 0, 0, 0, 0, 0, 0, 0, 0, 0, 0, 0, 0, 0, 0, 0, 0]\n"
     ]
    }
   ],
   "source": [
    "df = pd.read_csv(\"./Dataset/dataset_phishing.csv\")\n",
    "\n",
    "# Convirtiendo Columna status a numerica\n",
    "df[\"status\"] = df[\"status\"].map({\"phishing\": 1, \"legitimate\": 0})\n",
    "\n",
    "\n",
    "# Columna innecesaria porque ya se tiene su longitud\n",
    "dfProcessed = df.drop('url', axis=1)\n",
    "\n",
    "print(list(dfProcessed.columns))\n",
    "nulos_por_columna = df.isnull().sum()\n",
    "print(list(nulos_por_columna))"
   ]
  },
  {
   "cell_type": "code",
   "execution_count": 38,
   "metadata": {
    "vscode": {
     "languageId": "markdown"
    }
   },
   "outputs": [
    {
     "name": "stdout",
     "output_type": "stream",
     "text": [
      "Accuracy (Exactitud): 0.836832895888014\n",
      "Precision (Precisión): 0.8214285714285714\n",
      "Recall (Sensibilidad): 0.8556244464127547\n"
     ]
    }
   ],
   "source": [
    "import numpy as np\n",
    "import pandas as pd\n",
    "from sklearn.model_selection import train_test_split\n",
    "from sklearn.neighbors import KNeighborsClassifier\n",
    "from sklearn.metrics import accuracy_score, precision_score, recall_score, classification_report\n",
    "import matplotlib.pyplot as plt\n",
    "\n",
    "\n",
    "y = dfProcessed.pop(\"status\") \n",
    "X = dfProcessed\n",
    "\n",
    "\n",
    "X_train, X_test, y_train, y_test = train_test_split(X, y, test_size=0.2, random_state=42)\n",
    "\n",
    "\n",
    "knn = KNeighborsClassifier(n_neighbors=3)\n",
    "\n",
    "knn.fit(X_train, y_train)\n",
    "\n",
    "y_pred = knn.predict(X_test)\n",
    "\n",
    "# Calcular métricas\n",
    "accuracy = accuracy_score(y_test, y_pred)\n",
    "precision = precision_score(y_test, y_pred)\n",
    "recall = recall_score(y_test, y_pred)\n",
    "\n",
    "print(\"Accuracy (Exactitud):\", accuracy)\n",
    "print(\"Precision (Precisión):\", precision)\n",
    "print(\"Recall (Sensibilidad):\", recall)"
   ]
  },
  {
   "cell_type": "code",
   "execution_count": 39,
   "metadata": {
    "vscode": {
     "languageId": "markdown"
    }
   },
   "outputs": [
    {
     "data": {
      "image/png": "[encoded data removed]",
      "text/plain": [
       "<Figure size 800x600 with 2 Axes>"
      ]
     },
     "metadata": {},
     "output_type": "display_data"
    }
   ],
   "source": [
    "from sklearn.metrics import confusion_matrix\n",
    "import seaborn as sns\n",
    "import matplotlib.pyplot as plt\n",
    "\n",
    "# Calcular la matriz de confusión\n",
    "conf_matrix = confusion_matrix(y_test, y_pred)\n",
    "\n",
    "# Crear la gráfica de la matriz de confusión\n",
    "plt.figure(figsize=(8, 6))\n",
    "sns.heatmap(conf_matrix, annot=True, fmt=\"d\", cmap=\"Blues\", xticklabels=[\"Legitimate\", \"Phishing\"], yticklabels=[\"Legitimate\", \"Phishing\"])\n",
    "\n",
    "# Personalizar\n",
    "plt.title(\"Matriz de Confusión\", fontsize=16)\n",
    "plt.xlabel(\"Clase Predicha\", fontsize=14)\n",
    "plt.ylabel(\"Clase Real\", fontsize=14)\n",
    "plt.show()\n"
   ]
  },
  {
   "cell_type": "markdown",
   "metadata": {},
   "source": [
    "### métricas de desempeño \n",
    "\n",
    "Las métricas que se usaron para evaluar el modelo fueron las de acurracy porque los datos estaban balanceados, existe la misma cantidad de datos fishing como legitimo. Además, se usó Precisión para saber la precisión en la que devuelve los datos y por último se utilizó la sensibilidad para saber de los positivos reales cuantos fueron identificados. \n",
    "\n",
    "### ¿Cuál implementación fue mejor? ¿Por qué? \n",
    "Las dos formas de solucionar el problema dieron una respuesta muy parecida, por los resultados el knn de la librería Sckit-learn, es ligeramente mejor al realizado por el grupo. Pero en términos generales son muy parecidos por lo que ambos fueron buenas implementaciones. "
   ]
  }
 ],
 "metadata": {
  "kernelspec": {
   "display_name": "Python 3",
   "language": "python",
   "name": "python3"
  },
  "language_info": {
   "codemirror_mode": {
    "name": "ipython",
    "version": 3
   },
   "file_extension": ".py",
   "mimetype": "text/x-python",
   "name": "python",
   "nbconvert_exporter": "python",
   "pygments_lexer": "ipython3",
   "version": "3.12.8"
  }
 },
 "nbformat": 4,
 "nbformat_minor": 2
}
