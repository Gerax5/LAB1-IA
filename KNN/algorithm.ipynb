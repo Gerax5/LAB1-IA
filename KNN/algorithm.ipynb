{
 "cells": [
  {
   "cell_type": "code",
   "execution_count": 2,
   "metadata": {},
   "outputs": [],
   "source": [
    "# pip install kagglehub\n",
    "\n",
    "import numpy as np\n",
    "import pandas as pd\n",
    "\n",
    "df = pd.read_csv(\"../Dataset/dataset_phishing.csv\")"
   ]
  },
  {
   "cell_type": "code",
   "execution_count": null,
   "metadata": {},
   "outputs": [],
   "source": [
    "# Exploracion de datos\n",
    "# Para saber las columnas del dataset\n",
    "print(list(df.columns))\n",
    "\n",
    "# Para saber si el dataset esta balanceado\n",
    "print(df[\"status\"].value_counts())\n",
    "\n",
    "\n",
    "# Buscando valores nulls\n",
    "nulos = df.isnull()\n",
    "print(nulos)\n",
    "\n",
    "nulos_por_columna = df.isnull().sum()\n",
    "print(list(nulos_por_columna))\n"
   ]
  },
  {
   "cell_type": "code",
   "execution_count": null,
   "metadata": {},
   "outputs": [],
   "source": [
    "# Convirtiendo Columna status a numerica\n",
    "df[\"status\"] = df[\"status\"].map({\"phishing\": 1, \"legitimate\": 0})"
   ]
  },
  {
   "cell_type": "code",
   "execution_count": 9,
   "metadata": {},
   "outputs": [],
   "source": [
    "def euclidean(x, y):\n",
    "    return np.sqrt(np.sum((x - y) ** 2))"
   ]
  }
 ],
 "metadata": {
  "kernelspec": {
   "display_name": "Python 3",
   "language": "python",
   "name": "python3"
  },
  "language_info": {
   "codemirror_mode": {
    "name": "ipython",
    "version": 3
   },
   "file_extension": ".py",
   "mimetype": "text/x-python",
   "name": "python",
   "nbconvert_exporter": "python",
   "pygments_lexer": "ipython3",
   "version": "3.11.9"
  }
 },
 "nbformat": 4,
 "nbformat_minor": 2
}
